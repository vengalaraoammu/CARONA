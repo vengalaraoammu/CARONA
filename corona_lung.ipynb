{
  "nbformat": 4,
  "nbformat_minor": 0,
  "metadata": {
    "colab": {
      "name": "corona_lung.ipynb",
      "provenance": []
    },
    "kernelspec": {
      "name": "python3",
      "display_name": "Python 3"
    },
    "language_info": {
      "name": "python"
    },
    "accelerator": "GPU"
  },
  "cells": [
    {
      "cell_type": "code",
      "execution_count": null,
      "metadata": {
        "id": "ZbhmBvY4zQAF"
      },
      "outputs": [],
      "source": [
        "import keras\n",
        "import tensorflow as tf\n",
        "import matplotlib.pyplot as plt\n",
        "import pandas as pd\n",
        "import numpy as np\n",
        "from keras.layers import Dense, Conv2D, MaxPool2D, Dropout, Flatten, BatchNormalization, ZeroPadding2D\n",
        "from keras.models import Sequential\n",
        "from keras.preprocessing import image"
      ]
    },
    {
      "cell_type": "code",
      "source": [
        "from google.colab import drive\n",
        "drive.mount('/content/drive')"
      ],
      "metadata": {
        "colab": {
          "base_uri": "https://localhost:8080/"
        },
        "id": "dEkkz63z1CPr",
        "outputId": "0563aa75-20e3-465a-d8b7-6829d3c2f58c"
      },
      "execution_count": null,
      "outputs": [
        {
          "output_type": "stream",
          "name": "stdout",
          "text": [
            "Mounted at /content/drive\n"
          ]
        }
      ]
    },
    {
      "cell_type": "code",
      "source": [
        "train_gen = image.ImageDataGenerator(rescale=1/255,horizontal_flip=True,zoom_range=0.2)\n",
        "\n",
        "val_gen = image.ImageDataGenerator(rescale = 1/255)\n",
        "\n",
        "data_train=train_gen.flow_from_directory('/content/drive/MyDrive/Corona_lung/dataset/train',\n",
        "                                         target_size=(256,256),batch_size=2)\n",
        "\n",
        "data_val = val_gen.flow_from_directory(\"/content/drive/MyDrive/Corona_lung/dataset/val\",\n",
        "                                         target_size=(256,256),batch_size=16,class_mode='binary')"
      ],
      "metadata": {
        "colab": {
          "base_uri": "https://localhost:8080/"
        },
        "id": "kiJn-4G41gwO",
        "outputId": "1be6e50c-4dde-49f5-d025-ac0be60595bf"
      },
      "execution_count": null,
      "outputs": [
        {
          "output_type": "stream",
          "name": "stdout",
          "text": [
            "Found 240 images belonging to 3 classes.\n",
            "Found 30 images belonging to 3 classes.\n"
          ]
        }
      ]
    },
    {
      "cell_type": "code",
      "source": [
        "model=Sequential()\n",
        "import tensorflow as tf\n",
        "\n",
        "model.add(Conv2D(filters=32,kernel_size=(3,3),activation='relu',input_shape=(256,256,3)))\n",
        "model.add(Conv2D(filters=64,kernel_size=(3,3),activation='relu'))\n",
        "model.add(MaxPool2D())\n",
        "model.add(Dropout(rate=0.2))\n",
        "\n",
        "model.add(Conv2D(filters=64,kernel_size=(3,3),activation='relu'))\n",
        "model.add(MaxPool2D())\n",
        "model.add(Dropout(rate=0.5))\n",
        "\n",
        "model.add(Conv2D(filters=128,kernel_size=(3,3),activation='relu'))\n",
        "model.add(MaxPool2D())\n",
        "model.add(Dropout(rate=0.75))\n",
        "\n",
        "model.add(Flatten())\n",
        "model.add(Dense(units=64,activation='relu'))\n",
        "model.add(Dropout(rate=0.50))\n",
        "model.add(Dense(units=1,activation='sigmoid'))"
      ],
      "metadata": {
        "id": "qxUfd6Wm3opF"
      },
      "execution_count": null,
      "outputs": []
    },
    {
      "cell_type": "code",
      "source": [
        "model.summary()"
      ],
      "metadata": {
        "colab": {
          "base_uri": "https://localhost:8080/"
        },
        "id": "LhfIFw5z4ZVO",
        "outputId": "7e830036-4700-4d19-f116-1eba5fb35d76"
      },
      "execution_count": null,
      "outputs": [
        {
          "output_type": "stream",
          "name": "stdout",
          "text": [
            "Model: \"sequential\"\n",
            "_________________________________________________________________\n",
            " Layer (type)                Output Shape              Param #   \n",
            "=================================================================\n",
            " conv2d (Conv2D)             (None, 254, 254, 32)      896       \n",
            "                                                                 \n",
            " conv2d_1 (Conv2D)           (None, 252, 252, 64)      18496     \n",
            "                                                                 \n",
            " max_pooling2d (MaxPooling2D  (None, 126, 126, 64)     0         \n",
            " )                                                               \n",
            "                                                                 \n",
            " dropout (Dropout)           (None, 126, 126, 64)      0         \n",
            "                                                                 \n",
            " conv2d_2 (Conv2D)           (None, 124, 124, 64)      36928     \n",
            "                                                                 \n",
            " max_pooling2d_1 (MaxPooling  (None, 62, 62, 64)       0         \n",
            " 2D)                                                             \n",
            "                                                                 \n",
            " dropout_1 (Dropout)         (None, 62, 62, 64)        0         \n",
            "                                                                 \n",
            " conv2d_3 (Conv2D)           (None, 60, 60, 128)       73856     \n",
            "                                                                 \n",
            " max_pooling2d_2 (MaxPooling  (None, 30, 30, 128)      0         \n",
            " 2D)                                                             \n",
            "                                                                 \n",
            " dropout_2 (Dropout)         (None, 30, 30, 128)       0         \n",
            "                                                                 \n",
            " flatten (Flatten)           (None, 115200)            0         \n",
            "                                                                 \n",
            " dense (Dense)               (None, 64)                7372864   \n",
            "                                                                 \n",
            " dropout_3 (Dropout)         (None, 64)                0         \n",
            "                                                                 \n",
            " dense_1 (Dense)             (None, 1)                 65        \n",
            "                                                                 \n",
            "=================================================================\n",
            "Total params: 7,503,105\n",
            "Trainable params: 7,503,105\n",
            "Non-trainable params: 0\n",
            "_________________________________________________________________\n"
          ]
        }
      ]
    },
    {
      "cell_type": "code",
      "source": [
        "# model.compile(optimizer=tf.keras.optimizers.Adam(learning_rate=1e-3),\n",
        "#               loss=tf.keras.losses.BinaryCrossentropy(),\n",
        "#               metrics=[tf.keras.metrics.BinaryAccuracy(),\n",
        "#                        tf.keras.metrics.FalseNegatives()])\n"
      ],
      "metadata": {
        "id": "v8sqxtiO4ext"
      },
      "execution_count": null,
      "outputs": []
    },
    {
      "cell_type": "code",
      "source": [
        "model.compile(optimizer='adam',loss=keras.losses.binary_crossentropy, metrics=['accuracy'])"
      ],
      "metadata": {
        "id": "se9pYHZVeB71"
      },
      "execution_count": null,
      "outputs": []
    },
    {
      "cell_type": "code",
      "source": [
        "# model.compile(optimizer='adam',loss = 'binary',\n",
        "#               metrics=['accuracy'])\n"
      ],
      "metadata": {
        "id": "MngKPDGe5tHb"
      },
      "execution_count": null,
      "outputs": []
    },
    {
      "cell_type": "code",
      "source": [
        "hs=model.fit_generator(data_train,steps_per_epoch=30,epochs=50,validation_data=data_val)"
      ],
      "metadata": {
        "colab": {
          "base_uri": "https://localhost:8080/"
        },
        "id": "glW33_A245Wn",
        "outputId": "65578582-22cd-4f2e-cfd2-0adb412b7cc6"
      },
      "execution_count": null,
      "outputs": [
        {
          "output_type": "stream",
          "name": "stdout",
          "text": [
            "Epoch 1/50\n",
            " 1/30 [>.............................] - ETA: 2s - loss: 0.6387 - accuracy: 0.6667"
          ]
        },
        {
          "output_type": "stream",
          "name": "stderr",
          "text": [
            "/usr/local/lib/python3.7/dist-packages/ipykernel_launcher.py:1: UserWarning: `Model.fit_generator` is deprecated and will be removed in a future version. Please use `Model.fit`, which supports generators.\n",
            "  \"\"\"Entry point for launching an IPython kernel.\n"
          ]
        },
        {
          "output_type": "stream",
          "name": "stdout",
          "text": [
            "30/30 [==============================] - 4s 127ms/step - loss: 0.6375 - accuracy: 0.6667 - val_loss: 1.3969 - val_accuracy: 0.0000e+00\n",
            "Epoch 2/50\n",
            "30/30 [==============================] - 4s 126ms/step - loss: 0.6375 - accuracy: 0.6667 - val_loss: 1.4350 - val_accuracy: 0.0000e+00\n",
            "Epoch 3/50\n",
            "30/30 [==============================] - 4s 109ms/step - loss: 0.6378 - accuracy: 0.6667 - val_loss: 1.3932 - val_accuracy: 0.0000e+00\n",
            "Epoch 4/50\n",
            "30/30 [==============================] - 3s 115ms/step - loss: 0.6380 - accuracy: 0.6667 - val_loss: 1.3228 - val_accuracy: 0.0000e+00\n",
            "Epoch 5/50\n",
            "30/30 [==============================] - 4s 119ms/step - loss: 0.6378 - accuracy: 0.6667 - val_loss: 1.3540 - val_accuracy: 0.0000e+00\n",
            "Epoch 6/50\n",
            "30/30 [==============================] - 4s 130ms/step - loss: 0.6375 - accuracy: 0.6667 - val_loss: 1.3624 - val_accuracy: 0.0000e+00\n",
            "Epoch 7/50\n",
            "30/30 [==============================] - 4s 130ms/step - loss: 0.6374 - accuracy: 0.6667 - val_loss: 1.3964 - val_accuracy: 0.0000e+00\n",
            "Epoch 8/50\n",
            "30/30 [==============================] - 4s 119ms/step - loss: 0.6374 - accuracy: 0.6667 - val_loss: 1.3877 - val_accuracy: 0.0000e+00\n",
            "Epoch 9/50\n",
            "30/30 [==============================] - 3s 114ms/step - loss: 0.6374 - accuracy: 0.6667 - val_loss: 1.3673 - val_accuracy: 0.0000e+00\n",
            "Epoch 10/50\n",
            "30/30 [==============================] - 4s 130ms/step - loss: 0.6376 - accuracy: 0.6667 - val_loss: 1.3503 - val_accuracy: 0.0000e+00\n",
            "Epoch 11/50\n",
            "30/30 [==============================] - 3s 110ms/step - loss: 0.6375 - accuracy: 0.6667 - val_loss: 1.3730 - val_accuracy: 0.0000e+00\n",
            "Epoch 12/50\n",
            "30/30 [==============================] - 4s 122ms/step - loss: 0.6374 - accuracy: 0.6667 - val_loss: 1.3963 - val_accuracy: 0.0000e+00\n",
            "Epoch 13/50\n",
            "30/30 [==============================] - 3s 111ms/step - loss: 0.6374 - accuracy: 0.6667 - val_loss: 1.3781 - val_accuracy: 0.0000e+00\n",
            "Epoch 14/50\n",
            "30/30 [==============================] - 3s 110ms/step - loss: 0.6375 - accuracy: 0.6667 - val_loss: 1.3307 - val_accuracy: 0.0000e+00\n",
            "Epoch 15/50\n",
            "30/30 [==============================] - 4s 136ms/step - loss: 0.6373 - accuracy: 0.6667 - val_loss: 1.4130 - val_accuracy: 0.0000e+00\n",
            "Epoch 16/50\n",
            "30/30 [==============================] - 4s 117ms/step - loss: 0.6372 - accuracy: 0.6667 - val_loss: 1.4433 - val_accuracy: 0.0000e+00\n",
            "Epoch 17/50\n",
            "30/30 [==============================] - 3s 109ms/step - loss: 0.6373 - accuracy: 0.6667 - val_loss: 1.3462 - val_accuracy: 0.0000e+00\n",
            "Epoch 18/50\n",
            "30/30 [==============================] - 4s 117ms/step - loss: 0.6374 - accuracy: 0.6667 - val_loss: 1.4355 - val_accuracy: 0.0000e+00\n",
            "Epoch 19/50\n",
            "30/30 [==============================] - 3s 105ms/step - loss: 0.6374 - accuracy: 0.6667 - val_loss: 1.3915 - val_accuracy: 0.0000e+00\n",
            "Epoch 20/50\n",
            "30/30 [==============================] - 4s 123ms/step - loss: 0.6373 - accuracy: 0.6667 - val_loss: 1.4054 - val_accuracy: 0.0000e+00\n",
            "Epoch 21/50\n",
            "30/30 [==============================] - 4s 127ms/step - loss: 0.6371 - accuracy: 0.6667 - val_loss: 1.4132 - val_accuracy: 0.0000e+00\n",
            "Epoch 22/50\n",
            "30/30 [==============================] - 4s 124ms/step - loss: 0.6374 - accuracy: 0.6667 - val_loss: 1.3567 - val_accuracy: 0.0000e+00\n",
            "Epoch 23/50\n",
            "30/30 [==============================] - 4s 111ms/step - loss: 0.6373 - accuracy: 0.6667 - val_loss: 1.4035 - val_accuracy: 0.0000e+00\n",
            "Epoch 24/50\n",
            "30/30 [==============================] - 3s 111ms/step - loss: 0.6371 - accuracy: 0.6667 - val_loss: 1.4428 - val_accuracy: 0.0000e+00\n",
            "Epoch 25/50\n",
            "30/30 [==============================] - 3s 111ms/step - loss: 0.6371 - accuracy: 0.6667 - val_loss: 1.3779 - val_accuracy: 0.0000e+00\n",
            "Epoch 26/50\n",
            "30/30 [==============================] - 4s 123ms/step - loss: 0.6370 - accuracy: 0.6667 - val_loss: 1.4020 - val_accuracy: 0.0000e+00\n",
            "Epoch 27/50\n",
            "30/30 [==============================] - 4s 127ms/step - loss: 0.6371 - accuracy: 0.6667 - val_loss: 1.4234 - val_accuracy: 0.0000e+00\n",
            "Epoch 28/50\n",
            "30/30 [==============================] - 3s 106ms/step - loss: 0.6370 - accuracy: 0.6667 - val_loss: 1.4331 - val_accuracy: 0.0000e+00\n",
            "Epoch 29/50\n",
            "30/30 [==============================] - 4s 118ms/step - loss: 0.6369 - accuracy: 0.6667 - val_loss: 1.4283 - val_accuracy: 0.0000e+00\n",
            "Epoch 30/50\n",
            "30/30 [==============================] - 3s 111ms/step - loss: 0.6370 - accuracy: 0.6667 - val_loss: 1.4243 - val_accuracy: 0.0000e+00\n",
            "Epoch 31/50\n",
            "30/30 [==============================] - 4s 122ms/step - loss: 0.6368 - accuracy: 0.6667 - val_loss: 1.4345 - val_accuracy: 0.0000e+00\n",
            "Epoch 32/50\n",
            "30/30 [==============================] - 3s 115ms/step - loss: 0.6369 - accuracy: 0.6667 - val_loss: 1.4068 - val_accuracy: 0.0000e+00\n",
            "Epoch 33/50\n",
            "30/30 [==============================] - 4s 133ms/step - loss: 0.6369 - accuracy: 0.6667 - val_loss: 1.4318 - val_accuracy: 0.0000e+00\n",
            "Epoch 34/50\n",
            "30/30 [==============================] - 4s 128ms/step - loss: 0.6369 - accuracy: 0.6667 - val_loss: 1.4169 - val_accuracy: 0.0000e+00\n",
            "Epoch 35/50\n",
            "30/30 [==============================] - 3s 113ms/step - loss: 0.6369 - accuracy: 0.6667 - val_loss: 1.4237 - val_accuracy: 0.0000e+00\n",
            "Epoch 36/50\n",
            "30/30 [==============================] - 3s 111ms/step - loss: 0.6369 - accuracy: 0.6667 - val_loss: 1.4148 - val_accuracy: 0.0000e+00\n",
            "Epoch 37/50\n",
            "30/30 [==============================] - 3s 110ms/step - loss: 0.6368 - accuracy: 0.6667 - val_loss: 1.4310 - val_accuracy: 0.0000e+00\n",
            "Epoch 38/50\n",
            "30/30 [==============================] - 3s 108ms/step - loss: 0.6368 - accuracy: 0.6667 - val_loss: 1.4151 - val_accuracy: 0.0000e+00\n",
            "Epoch 39/50\n",
            "30/30 [==============================] - 3s 109ms/step - loss: 0.6368 - accuracy: 0.6667 - val_loss: 1.4503 - val_accuracy: 0.0000e+00\n",
            "Epoch 40/50\n",
            "30/30 [==============================] - 3s 111ms/step - loss: 0.6369 - accuracy: 0.6667 - val_loss: 1.4226 - val_accuracy: 0.0000e+00\n",
            "Epoch 41/50\n",
            "30/30 [==============================] - 3s 117ms/step - loss: 0.6367 - accuracy: 0.6667 - val_loss: 1.4416 - val_accuracy: 0.0000e+00\n",
            "Epoch 42/50\n",
            "30/30 [==============================] - 3s 110ms/step - loss: 0.6369 - accuracy: 0.6667 - val_loss: 1.4486 - val_accuracy: 0.0000e+00\n",
            "Epoch 43/50\n",
            "30/30 [==============================] - 3s 109ms/step - loss: 0.6368 - accuracy: 0.6667 - val_loss: 1.4188 - val_accuracy: 0.0000e+00\n",
            "Epoch 44/50\n",
            "30/30 [==============================] - 4s 118ms/step - loss: 0.6368 - accuracy: 0.6667 - val_loss: 1.4604 - val_accuracy: 0.0000e+00\n",
            "Epoch 45/50\n",
            "30/30 [==============================] - 3s 109ms/step - loss: 0.6368 - accuracy: 0.6667 - val_loss: 1.4431 - val_accuracy: 0.0000e+00\n",
            "Epoch 46/50\n",
            "30/30 [==============================] - 4s 117ms/step - loss: 0.6367 - accuracy: 0.6667 - val_loss: 1.4309 - val_accuracy: 0.0000e+00\n",
            "Epoch 47/50\n",
            "30/30 [==============================] - 3s 112ms/step - loss: 0.6368 - accuracy: 0.6667 - val_loss: 1.4371 - val_accuracy: 0.0000e+00\n",
            "Epoch 48/50\n",
            "30/30 [==============================] - 4s 117ms/step - loss: 0.6367 - accuracy: 0.6667 - val_loss: 1.4290 - val_accuracy: 0.0000e+00\n",
            "Epoch 49/50\n",
            "30/30 [==============================] - 3s 108ms/step - loss: 0.6367 - accuracy: 0.6667 - val_loss: 1.4429 - val_accuracy: 0.0000e+00\n",
            "Epoch 50/50\n",
            "30/30 [==============================] - 4s 118ms/step - loss: 0.6367 - accuracy: 0.6667 - val_loss: 1.4178 - val_accuracy: 0.0000e+00\n"
          ]
        }
      ]
    },
    {
      "cell_type": "code",
      "source": [
        "h=hs.history\n",
        "h.keys()"
      ],
      "metadata": {
        "id": "G8pxc05y5cnn",
        "colab": {
          "base_uri": "https://localhost:8080/"
        },
        "outputId": "80acec71-2ac4-4e00-b631-ebf778216296"
      },
      "execution_count": null,
      "outputs": [
        {
          "output_type": "execute_result",
          "data": {
            "text/plain": [
              "dict_keys(['loss', 'accuracy', 'val_loss', 'val_accuracy'])"
            ]
          },
          "metadata": {},
          "execution_count": 15
        }
      ]
    },
    {
      "cell_type": "code",
      "source": [
        "plt.plot(h['accuracy'])\n",
        "plt.plot(h['val_loss'],c=\"red\")\n",
        "\n",
        "plt.show()"
      ],
      "metadata": {
        "colab": {
          "base_uri": "https://localhost:8080/",
          "height": 269
        },
        "id": "ctQyMjpyf8lM",
        "outputId": "d0af1524-3802-4140-f321-35877831f3d1"
      },
      "execution_count": null,
      "outputs": [
        {
          "output_type": "display_data",
          "data": {
            "text/plain": [
              "<Figure size 432x288 with 1 Axes>"
            ],
            "image/png": "[encoded data removed]"
          },
          "metadata": {
            "needs_background": "light"
          }
        }
      ]
    },
    {
      "cell_type": "code",
      "source": [
        ""
      ],
      "metadata": {
        "id": "Yx6qZy5lhx5P"
      },
      "execution_count": null,
      "outputs": []
    }
  ]
}